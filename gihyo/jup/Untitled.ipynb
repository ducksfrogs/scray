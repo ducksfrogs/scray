{
 "cells": [
  {
   "cell_type": "code",
   "execution_count": 1,
   "metadata": {},
   "outputs": [],
   "source": [
    "from urllib.parse import urljoin"
   ]
  },
  {
   "cell_type": "code",
   "execution_count": 2,
   "metadata": {},
   "outputs": [],
   "source": [
    "base_url = 'http://example.com/books/top.html'"
   ]
  },
  {
   "cell_type": "code",
   "execution_count": 3,
   "metadata": {},
   "outputs": [
    {
     "data": {
      "text/plain": [
       "'http://cdn.example.com/logo.png'"
      ]
     },
     "execution_count": 3,
     "metadata": {},
     "output_type": "execute_result"
    }
   ],
   "source": [
    "urljoin(base_url,'//cdn.example.com/logo.png')"
   ]
  },
  {
   "cell_type": "code",
   "execution_count": 4,
   "metadata": {},
   "outputs": [
    {
     "data": {
      "text/plain": [
       "'http://example.com/articles/'"
      ]
     },
     "execution_count": 4,
     "metadata": {},
     "output_type": "execute_result"
    }
   ],
   "source": [
    "urljoin(base_url, '/articles/')"
   ]
  },
  {
   "cell_type": "code",
   "execution_count": 5,
   "metadata": {},
   "outputs": [
    {
     "data": {
      "text/plain": [
       "'http://example.com/books/'"
      ]
     },
     "execution_count": 5,
     "metadata": {},
     "output_type": "execute_result"
    }
   ],
   "source": [
    "urljoin(base_url, './')"
   ]
  },
  {
   "cell_type": "code",
   "execution_count": 6,
   "metadata": {},
   "outputs": [],
   "source": [
    "from bs4 import BeautifulSoup"
   ]
  },
  {
   "cell_type": "code",
   "execution_count": 7,
   "metadata": {},
   "outputs": [],
   "source": [
    "with open('dp.html') as f:\n",
    "    soup = BeautifulSoup(f, 'html.parser')"
   ]
  },
  {
   "cell_type": "code",
   "execution_count": 8,
   "metadata": {},
   "outputs": [
    {
     "data": {
      "text/plain": [
       "<h1 class=\"home-title\">Gihyo Digital Publishing</h1>"
      ]
     },
     "execution_count": 8,
     "metadata": {},
     "output_type": "execute_result"
    }
   ],
   "source": [
    "soup.h1"
   ]
  },
  {
   "cell_type": "code",
   "execution_count": 9,
   "metadata": {},
   "outputs": [
    {
     "data": {
      "text/plain": [
       "<p>本サイトではJavaScriptを使用しております。JavaScriptが無効な状態ではご利用いただけません。</p>"
      ]
     },
     "execution_count": 9,
     "metadata": {},
     "output_type": "execute_result"
    }
   ],
   "source": [
    "soup.p"
   ]
  },
  {
   "cell_type": "code",
   "execution_count": 10,
   "metadata": {},
   "outputs": [
    {
     "data": {
      "text/plain": [
       "<script defer=\"\" src=\"/dp/assets/js/gdpFunction0411.min.js\"></script>"
      ]
     },
     "execution_count": 10,
     "metadata": {},
     "output_type": "execute_result"
    }
   ],
   "source": [
    "soup.script"
   ]
  },
  {
   "cell_type": "code",
   "execution_count": 11,
   "metadata": {},
   "outputs": [
    {
     "data": {
      "text/plain": [
       "'Gihyo Digital Publishing'"
      ]
     },
     "execution_count": 11,
     "metadata": {},
     "output_type": "execute_result"
    }
   ],
   "source": [
    "soup.h1.string"
   ]
  },
  {
   "cell_type": "code",
   "execution_count": 12,
   "metadata": {},
   "outputs": [
    {
     "data": {
      "text/plain": [
       "<li class=\"title\">商品ジャンルを選択</li>"
      ]
     },
     "execution_count": 12,
     "metadata": {},
     "output_type": "execute_result"
    }
   ],
   "source": [
    "soup.li"
   ]
  },
  {
   "cell_type": "code",
   "execution_count": 13,
   "metadata": {},
   "outputs": [
    {
     "name": "stdout",
     "output_type": "stream",
     "text": [
      "https://gihyo.jp/dp/ebook/2021/978-4-297-12040-5 情報科学入門 統計・データサイエンス・AI\n",
      "https://gihyo.jp/dp/ebook/2021/978-4-297-12019-1 いちばんやさしい 日商PC検定データ活用3級 ズバリ合格BOOK［Excel 2013/2016/2019対応］\n",
      "https://gihyo.jp/dp/ebook/2021/978-4-297-12123-5 新 ブレンダーからはじめよう！～無料でできる3Dアニメーション～\n",
      "https://gihyo.jp/dp/ebook/2021/978-4-297-11808-2 はじめてのスプリンギン〜プログラミングを学んでゲームをつくろう〜\n",
      "https://gihyo.jp/dp/ebook/2021/978-4-297-12008-5 情報処理技術者試験 【改訂新版】要点早わかり ネットワークスペシャリストポケット攻略本\n",
      "https://gihyo.jp/dp/ebook/2021/978-4-297-11947-8 営業を変えるマーケティング組織のつくりかた～アナログ営業からデジタルマーケティングへ変革する\n",
      "https://gihyo.jp/dp/ebook/2021/978-4-297-11970-6 Software Design 2021年4月号\n",
      "https://gihyo.jp/dp/ebook/2021/978-4-297-11881-5 60分でわかる！IT知識 60分でわかる！ MaaS モビリティ革命\n",
      "https://gihyo.jp/dp/ebook/2021/978-4-297-12006-1 情報処理技術者試験 【改訂4版】要点・用語早わかり 応用情報技術者 ポケット攻略本\n",
      "https://gihyo.jp/dp/ebook/2021/978-4-297-12004-7 Teams仕事術 ニューノーマル時代に心地よく働くための実践知\n",
      "https://gihyo.jp/dp/ebook/2021/978-4-297-11994-2 ゼロからはじめる ゼロからはじめるGoogle Pixel5／4a（5G）／4a スマートガイド\n",
      "https://gihyo.jp/dp/ebook/2021/978-4-297-11955-3 WEB+DB PRESS plus ［増補改訂］GPUを支える技術――超並列ハードウェアの快進撃［技術基礎］\n",
      "https://gihyo.jp/dp/ebook/2021/978-4-297-11957-7 社会人になるためのキャリア情報リテラシー\n",
      "https://gihyo.jp/dp/ebook/2021/978-4-297-12002-3 知りたい！サイエンス 今だから知りたいワクチンの科学―効果とリスクを正しく判断するために\n",
      "https://gihyo.jp/dp/ebook/2021/978-4-297-11969-0 機械学習・統計処理のための数学入門――基本演算からRプログラミングまで\n",
      "https://gihyo.jp/dp/ebook/2021/978-4-297-11931-7 らくらく突破 らくらく突破2021年版 技術士第一次試験［基礎科目・適性科目］過去問題集\n",
      "https://gihyo.jp/dp/ebook/2021/978-4-297-11636-1 IT×仕事術 Excel自動化［最強］時短仕事術 マクロ/VBAの基本＆業務効率化の即効サンプル\n",
      "https://gihyo.jp/dp/ebook/2021/978-4-297-11891-4 世界一わかりやすい教科書 世界一わかりやすい Illustrator ＆ Photoshop 操作とデザインの教科書［改訂3版］\n",
      "https://gihyo.jp/dp/ebook/2021/978-4-297-11961-4 WEB+DB PRESS Vol.121\n",
      "https://gihyo.jp/dp/ebook/2021/978-4-297-11899-0 今すぐ使えるかんたんEx 今すぐ使えるかんたんExLINE & Instagram & Facebook & Twitter 便利技BESTセレクション\n",
      "https://gihyo.jp/dp/ebook/2021/978-4-297-11939-3 イラレのスゴ技 動画と図でわかる Illustratorの新しいアイディア\n",
      "https://gihyo.jp/dp/ebook/2021/978-4-297-11905-8 今すぐ使えるかんたん 今すぐ使えるかんたんMicrosoft Teams\n",
      "https://gihyo.jp/dp/ebook/2021/978-4-297-11959-1 Raspberry Pi はじめてガイド―［Raspberry Pi 4完全対応］\n",
      "https://gihyo.jp/dp/ebook/2021/978-4-297-11924-9 ［改訂新版］てっとり早く確実にマスターできる Excel VBAの教科書\n",
      "https://gihyo.jp/dp/ebook/2021/978-4-297-11871-6 Premiere Pro ＆ After Effects いますぐ作れる！ ムービー制作の教科書［改訂3版］\n",
      "https://gihyo.jp/dp/ebook/2021/978-4-297-11290-5 Software Design 2021年3月号\n",
      "https://gihyo.jp/dp/ebook/2021/978-4-297-11949-2 Google Cloudではじめる実践データエンジニアリング入門［業務で使えるデータ基盤構築］\n",
      "https://gihyo.jp/dp/ebook/2021/978-4-297-11928-7 WEB+DB PRESS plus ステップアップUnity──プロが教える現場の教科書\n",
      "https://gihyo.jp/dp/ebook/2021/978-4-297-11903-4 みんなのVue.js\n",
      "https://gihyo.jp/dp/ebook/2021/978-4-297-11992-8 ゼロからはじめる ゼロからはじめるGalaxy Note20 Ultra 5G スマートガイド［ドコモ／au対応版］\n"
     ]
    }
   ],
   "source": [
    "for a in soup.select('#listBook > li > a[itemprop=\"url\"]'):\n",
    "    url = urljoin('https://gihyo.jp/dp', a.get('href'))\n",
    "    a\n",
    "    p = a.select('p[itemprop=\"name\"]')[0]\n",
    "    title = p.text\n",
    "    print(url, title)"
   ]
  },
  {
   "cell_type": "code",
   "execution_count": null,
   "metadata": {},
   "outputs": [],
   "source": []
  }
 ],
 "metadata": {
  "kernelspec": {
   "display_name": "Python 3",
   "language": "python",
   "name": "python3"
  },
  "language_info": {
   "codemirror_mode": {
    "name": "ipython",
    "version": 3
   },
   "file_extension": ".py",
   "mimetype": "text/x-python",
   "name": "python",
   "nbconvert_exporter": "python",
   "pygments_lexer": "ipython3",
   "version": "3.8.5"
  }
 },
 "nbformat": 4,
 "nbformat_minor": 4
}
